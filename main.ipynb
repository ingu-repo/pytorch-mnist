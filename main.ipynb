{
 "cells": [
  {
   "cell_type": "code",
   "execution_count": 41,
   "metadata": {},
   "outputs": [],
   "source": [
    "import torch\n",
    "from torch import nn, optim, utils\n",
    "from torch.nn import functional as F\n",
    "import torchvision\n",
    "import torchvision.datasets as datasets\n",
    "import torchvision.transforms as transforms\n",
    "from torchvision.models import vgg as vgg\n",
    "import numpy as np\n"
   ]
  },
  {
   "cell_type": "code",
   "execution_count": 27,
   "metadata": {},
   "outputs": [],
   "source": [
    "class build_model(nn.Module):\n",
    "    def __init__(self):\n",
    "        super().__init__()\n",
    "        # network\n",
    "        node_i = 784\n",
    "        node_m = 512\n",
    "        node_o = 10\n",
    "        self.fm = nn.Linear(node_i, node_m)\n",
    "        self.fo = nn.Linear(node_m, node_o)\n",
    "        # loss function\n",
    "        self.criterion = nn.MSELoss()\n",
    "        # optimization function\n",
    "        self.optimizer = optim.Adam(self.parameters())\n",
    "        print (\"model created\")\n",
    "\n",
    "    def forward(self, x):\n",
    "        x = self.fm(x)\n",
    "        # print (\"middle layer calc done:\", x)\n",
    "        x = F.relu(x)\n",
    "        # print (\"middle layer activation done:\", x)\n",
    "        x = self.fo(x)\n",
    "        # print (\"out layer calc done:\", x)\n",
    "        x = F.relu(x)\n",
    "        # print (\"out layer activation done:\", x)\n",
    "        return x\n"
   ]
  },
  {
   "cell_type": "code",
   "execution_count": 29,
   "metadata": {},
   "outputs": [],
   "source": [
    "def train(model, train_loader):\n",
    "    # let model know it is for training\n",
    "    model.train()\n",
    "\n",
    "    total_correct = 0\n",
    "    total_loss = 0\n",
    "    total_data_len = 1\n",
    "    accuracy = 0\n",
    "    loss = 0\n",
    "\n",
    "    # loop by minibatch\n",
    "    for batch_imgs, batch_labels in train_loader:\n",
    "        # convert 2d image data to 1d array\n",
    "        batch_imgs = batch_imgs.reshape(-1, 28*28*1)\n",
    "        # convert 10 elements array to one-hot array : only one answer data will be 1 and others becomes 0\n",
    "        labels = torch.eye(10)[batch_labels]\n",
    "\n",
    "        outputs = model(batch_imgs)\n",
    "        model.optimizer.zero_grad()\n",
    "        loss = model.criterion(outputs, labels)\n",
    "        loss.backward()\n",
    "        model.optimizer.step()\n",
    "\n",
    "        # ミニバッチごとの正答率と損失を求める\n",
    "        _, pred_labels = torch.max(outputs, axis=1)  # outputsから必要な情報(予測したラベル)のみを取り出す。\n",
    "        batch_size = len(batch_labels)  # バッチサイズの確認\n",
    "        for i in range(batch_size):  # データ一つずつループ,ミニバッチの中身出しきるまで\n",
    "            total_data_len += 1  # 全データ数を集計\n",
    "            if pred_labels[i] == batch_labels[i]:\n",
    "                total_correct += 1 # 正解のデータ数を集計\n",
    "        total_loss += loss.item()  # 全損失の合計\n",
    "\n",
    "    # 今回のエポックの正答率と損失を求める\n",
    "    accuracy = total_correct/total_data_len*100  # 予測精度の算出\n",
    "    loss = total_loss/total_data_len  # 損失の平均の算出\n",
    "    return accuracy, loss\n"
   ]
  },
  {
   "cell_type": "code",
   "execution_count": 56,
   "metadata": {},
   "outputs": [],
   "source": [
    "def load_data():\n",
    "    trainset = datasets.MNIST(root='./data', train=True, download=False, transform=transforms.ToTensor())\n",
    "    testset = datasets.MNIST(root='./data', train=False, download=False, transform=transforms.ToTensor())\n",
    "    train_loader = utils.data.DataLoader(trainset, batch_size=100, shuffle=True, num_workers=2) # for train, shuffle=True\n",
    "    test_loader = utils.data.DataLoader(testset, batch_size=100, shuffle=False, num_workers=2) # for train, shuffle=True\n",
    "    print (\"loading mnist done\")\n",
    "    return train_loader, test_loader\n"
   ]
  },
  {
   "cell_type": "code",
   "execution_count": 58,
   "metadata": {},
   "outputs": [
    {
     "name": "stdout",
     "output_type": "stream",
     "text": [
      "model created\n",
      "loading mnist done\n",
      "正答率: 74.36209396510058, 損失: 0.00032055950027979707\n"
     ]
    }
   ],
   "source": [
    "model = build_model()\n",
    "train_loader, test_loader = load_data()\n",
    "\n",
    "acc, loss = train(model, train_loader)\n",
    "print(f'正答率: {acc}, 損失: {loss}')\n"
   ]
  },
  {
   "cell_type": "code",
   "execution_count": 43,
   "metadata": {},
   "outputs": [
    {
     "name": "stdout",
     "output_type": "stream",
     "text": [
      "torch version: 2.3.0\n",
      "torchivision version: 0.18.1a0\n",
      "numpy version: 1.24.3\n"
     ]
    }
   ],
   "source": [
    "    print (\"torch version:\", torch.__version__)\n",
    "    print (\"torchivision version:\", torchvision.__version__)\n",
    "    print (\"numpy version:\", np.__version__)\n"
   ]
  },
  {
   "cell_type": "code",
   "execution_count": 11,
   "metadata": {},
   "outputs": [
    {
     "name": "stdout",
     "output_type": "stream",
     "text": [
      "2.3.0.post100\n",
      "0.18.1a0\n",
      "1.24.3\n"
     ]
    }
   ],
   "source": [
    "print (torch.__version__)\n",
    "print (torchvision.__version__)\n",
    "print (np.__version__)"
   ]
  },
  {
   "cell_type": "code",
   "execution_count": 19,
   "metadata": {},
   "outputs": [
    {
     "data": {
      "text/plain": [
       "array([[0., 0., 0.],\n",
       "       [0., 0., 0.]])"
      ]
     },
     "execution_count": 19,
     "metadata": {},
     "output_type": "execute_result"
    }
   ],
   "source": [
    "np.zeros((2,3))"
   ]
  },
  {
   "cell_type": "code",
   "execution_count": 6,
   "metadata": {},
   "outputs": [
    {
     "data": {
      "text/plain": [
       "tensor([[0., 0., 0.],\n",
       "        [0., 0., 0.]])"
      ]
     },
     "execution_count": 6,
     "metadata": {},
     "output_type": "execute_result"
    }
   ],
   "source": [
    "torch.zeros((2,3))"
   ]
  },
  {
   "cell_type": "code",
   "execution_count": 29,
   "metadata": {},
   "outputs": [
    {
     "data": {
      "text/plain": [
       "array([[0, 1, 2],\n",
       "       [3, 4, 5]])"
      ]
     },
     "execution_count": 29,
     "metadata": {},
     "output_type": "execute_result"
    }
   ],
   "source": [
    "np.array(([0,1,2],[3,4,5]))"
   ]
  },
  {
   "cell_type": "code",
   "execution_count": 33,
   "metadata": {},
   "outputs": [
    {
     "data": {
      "text/plain": [
       "tensor([[0, 1, 2],\n",
       "        [3, 4, 5]])"
      ]
     },
     "execution_count": 33,
     "metadata": {},
     "output_type": "execute_result"
    }
   ],
   "source": [
    "torch.tensor(([0,1,2],[3,4,5]))"
   ]
  },
  {
   "cell_type": "code",
   "execution_count": 13,
   "metadata": {},
   "outputs": [
    {
     "name": "stdout",
     "output_type": "stream",
     "text": [
      "tensor([[1., 1., 1.],\n",
      "        [1., 1., 1.]], dtype=torch.float64)\n",
      "torch.Size([2, 3]) torch.float64\n"
     ]
    }
   ],
   "source": [
    "ones = torch.ones((2,3), dtype=torch.float64)\n",
    "print (ones)\n",
    "print (ones.shape, ones.dtype)"
   ]
  }
 ],
 "metadata": {
  "kernelspec": {
   "display_name": "Python 3 (ipykernel)",
   "language": "python",
   "name": "python3"
  },
  "language_info": {
   "codemirror_mode": {
    "name": "ipython",
    "version": 3
   },
   "file_extension": ".py",
   "mimetype": "text/x-python",
   "name": "python",
   "nbconvert_exporter": "python",
   "pygments_lexer": "ipython3",
   "version": "3.8.19"
  }
 },
 "nbformat": 4,
 "nbformat_minor": 4
}
